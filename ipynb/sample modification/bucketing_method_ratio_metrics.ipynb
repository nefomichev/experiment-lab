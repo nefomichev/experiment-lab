{
 "cells": [
  {
   "cell_type": "code",
   "execution_count": 166,
   "id": "cb21bbde-cb76-4c47-af5b-3da9dba70216",
   "metadata": {},
   "outputs": [],
   "source": [
    "import pandas as pd\n",
    "import numpy as np\n",
    "import scipy.stats as sps\n",
    "import seaborn as sns\n",
    "\n",
    "from random import randint\n",
    "from statsmodels.stats.proportion import proportion_confint\n",
    "from tqdm.notebook import tqdm as tqdm_notebook"
   ]
  },
  {
   "cell_type": "code",
   "execution_count": 173,
   "id": "0104f68d-ed0e-4a30-9273-7cb9e833dad6",
   "metadata": {},
   "outputs": [],
   "source": [
    "# Parameters\n",
    "N = 5000\n",
    "NN = 2000\n",
    "views_mean = 1.0\n",
    "views_skew = 2.0\n",
    "ctr_mean = 0.02\n",
    "ctr_skew = 250.\n",
    "uplift = 0"
   ]
  },
  {
   "cell_type": "code",
   "execution_count": 174,
   "id": "75ffdc58-7b5a-4976-ba57-93b2300f570f",
   "metadata": {},
   "outputs": [],
   "source": [
    "def generate_data(N: int = 5000,\n",
    "                  NN: int = 2000,\n",
    "                  views_mean: float = 1.0,\n",
    "                  views_skew: float = 2.0,\n",
    "                  ctr_mean: float = 0.02,\n",
    "                  ctr_skew: float = 250.,\n",
    "                  uplift: float = 0):\n",
    "    \"\"\"\n",
    "    Generates experimental data for N users in NN experiments\n",
    "    \"\"\"\n",
    "    views_0 = np.exp(sps.norm(views_mean, views_skew).rvs(NN * N)).astype(np.int32).reshape(NN, N) + 1\n",
    "    views_1 = np.exp(sps.norm(views_mean, views_skew).rvs(NN * N)).astype(np.int32).reshape(NN, N) + 1\n",
    "\n",
    "    # views are always positive, abs is fixing numerical issues with high skewness\n",
    "    views_0 = np.absolute(views_0)\n",
    "    views_1 = np.absolute(views_1)\n",
    "\n",
    "    alpha_0 = ctr_mean * ctr_skew / (1 - ctr_mean)\n",
    "    ctrs_0 = sps.beta(alpha_0, ctr_skew).rvs(NN * N).reshape(NN, N)\n",
    "\n",
    "    alpha_1 = ctr_mean * (1 + uplift) * ctr_skew / (1 - ctr_mean * (1 + uplift))\n",
    "    ctrs_1 = sps.beta(alpha_1, ctr_skew).rvs(NN * N).reshape(NN, N)\n",
    "\n",
    "    clicks_0 = sps.binom(n=views_0, p=ctrs_0).rvs()\n",
    "    clicks_1 = sps.binom(n=views_1, p=ctrs_1).rvs()\n",
    "\n",
    "    return (clicks_0.astype(np.float64), views_0.astype(np.float64), clicks_1.astype(np.float64), views_1.astype(np.float64))"
   ]
  },
  {
   "cell_type": "code",
   "execution_count": 175,
   "id": "d21c6b7b-abf5-465a-bf46-27236850fed4",
   "metadata": {},
   "outputs": [],
   "source": [
    "def t_test(a, b):\n",
    "    \"\"\"\n",
    "    Calculates two-sided t-test p-values for multiple experiments\n",
    "    :param a: np.array shape (n_experiments, n_users), metric values in control group\n",
    "    :param b: np.array shape (n_experiments, n_users), metric values in treatment group\n",
    "    :return: np.array shape (n_experiments), two-sided p-values of t-test in all experimetns\n",
    "    \"\"\"\n",
    "    result = list(map(lambda x: sps.ttest_ind(x[0], x[1]).pvalue, zip(a, b)))\n",
    "    return np.array(result)"
   ]
  },
  {
   "cell_type": "code",
   "execution_count": 176,
   "id": "26e37a31-62b3-4218-93cd-8663f57400a4",
   "metadata": {},
   "outputs": [],
   "source": [
    "def bucketization(clicks_0, views_0, clicks_1, views_1, n_buckets=200):\n",
    "    \"\"\"\n",
    "    Does weighted bucketization and calculates p-values for all experiments using t_test\n",
    "    :param ctrs_0: np.array shape (n_experiments, n_users), CTRs of every user from control group in every experiment\n",
    "    :param weights_0: np.array (n_experiments, n_users), weight of every user from control group in every experiment\n",
    "    :param ctrs_1: np.array (n_experiments, n_users), CTRs of every user from treatment group in every experiment\n",
    "    :param weights_1: np.array (n_experiments, n_users), weight of every user from treatment group in every experiment\n",
    "    :param n_buckets: int, nubmer of buckets\n",
    "    :return: np.array shape (n_experiments), two-sided p-values of weighted bucketization test in all the experimetns\n",
    "    \"\"\"\n",
    "\n",
    "    n_experiments, n_users = clicks_0.shape\n",
    "\n",
    "    values_0 = np.zeros((n_experiments, n_buckets))\n",
    "    values_1 = np.zeros((n_experiments, n_buckets))\n",
    "\n",
    "    for b in np.arange(n_buckets):\n",
    "        ind = np.arange(b * n_users / n_buckets, b * n_users / n_buckets + n_users / n_buckets).astype(np.int32)\n",
    "        values_0[:, b] = np.sum(clicks_0[:, ind], axis=1) / np.sum(views_0[:, ind], axis=1)\n",
    "        values_1[:, b] = np.sum(clicks_1[:, ind], axis=1) / np.sum(views_1[:, ind], axis=1)\n",
    "\n",
    "    return t_test(values_0, values_1)"
   ]
  },
  {
   "cell_type": "code",
   "execution_count": 177,
   "id": "abac9858-783e-47f2-a501-d1f7f96418a1",
   "metadata": {},
   "outputs": [],
   "source": [
    "clicks_0, views_0, clicks_1, views_1 = generate_data()\n",
    "aa_results = bucketization(clicks_0, views_0, clicks_1, views_1)"
   ]
  },
  {
   "cell_type": "code",
   "execution_count": 178,
   "id": "2e5cfdd6-7615-4a09-bb59-3e8f901353a3",
   "metadata": {},
   "outputs": [
    {
     "name": "stdout",
     "output_type": "stream",
     "text": [
      "\n",
      "     FPR = 0.0525 with CI (0.042725324373364, 0.062274675626635995)\n",
      "       \n"
     ]
    }
   ],
   "source": [
    "fp = sum(1 for x in aa_results if x <= 0.05)\n",
    "\n",
    "print(f\"\"\"\n",
    "     FPR = {fp / NN} with CI {proportion_confint(count=fp, nobs=NN)}\n",
    "       \"\"\")"
   ]
  }
 ],
 "metadata": {
  "kernelspec": {
   "display_name": "Python 3 (ipykernel)",
   "language": "python",
   "name": "python3"
  },
  "language_info": {
   "codemirror_mode": {
    "name": "ipython",
    "version": 3
   },
   "file_extension": ".py",
   "mimetype": "text/x-python",
   "name": "python",
   "nbconvert_exporter": "python",
   "pygments_lexer": "ipython3",
   "version": "3.9.12"
  }
 },
 "nbformat": 4,
 "nbformat_minor": 5
}
