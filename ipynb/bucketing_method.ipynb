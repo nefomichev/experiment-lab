{
 "cells": [
  {
   "cell_type": "markdown",
   "id": "a1fb1e7f-f305-4700-84a3-c961f5e85b24",
   "metadata": {},
   "source": [
    "# Bucketing method \n",
    "\n",
    "## Abstract\n",
    "\n",
    "Bucketing is a method to reduce sample size, but save original metrics stats like mean and variance. As an additional benefit, our sample becomes distributed similarly to normal. So, we are moving to a new statistical unit - the bucket. \n",
    "\n",
    "This technique is in one group with Bootstrap and Poisson Bootstrap, but reduces calculation by  lack of resampling."
   ]
  },
  {
   "cell_type": "markdown",
   "id": "df7ceb2b-0c23-4175-b39c-7fed76de2759",
   "metadata": {},
   "source": [
    "## Code / research"
   ]
  },
  {
   "cell_type": "code",
   "execution_count": 223,
   "id": "3c253d04-ad32-4936-8465-00d1dfe06e55",
   "metadata": {},
   "outputs": [],
   "source": [
    "import numpy as np \n",
    "import pandas as pd \n",
    "import seaborn as sns\n",
    "import scipy.stats as sps\n",
    "from random import randint"
   ]
  },
  {
   "cell_type": "code",
   "execution_count": 224,
   "id": "3d94fe6c-d6a2-4da4-95f2-7ea33467702c",
   "metadata": {},
   "outputs": [
    {
     "name": "stdout",
     "output_type": "stream",
     "text": [
      "\n",
      "Sample Mean                    = 1.0012881779683311\n",
      "SEM = sample var / sample size = 0.0010021192074114965\n",
      "\n",
      "\n"
     ]
    },
    {
     "data": {
      "text/plain": [
       "<seaborn.axisgrid.FacetGrid at 0x7fa563619640>"
      ]
     },
     "execution_count": 224,
     "metadata": {},
     "output_type": "execute_result"
    },
    {
     "data": {
      "image/png": "[encoded data removed]",
      "text/plain": [
       "<Figure size 428.125x360 with 1 Axes>"
      ]
     },
     "metadata": {
      "needs_background": "light"
     },
     "output_type": "display_data"
    }
   ],
   "source": [
    "# Generate sample from exponential distribution:\n",
    "sample_size = int(1e6)\n",
    "expon_sample = sps.expon().rvs(sample_size)\n",
    "df = pd.DataFrame(expon_sample, columns=['metric'])\n",
    "\n",
    "# Let's look at what we got: \n",
    "s_mean, s_sem = df.mean(), sps.sem(df)\n",
    "\n",
    "print(f\"\"\"\n",
    "Sample Mean                    = {float(s_mean)}\n",
    "SEM = sample var / sample size = {float(s_sem)}\n",
    "\n",
    "\"\"\")\n",
    "sns.displot(df)"
   ]
  },
  {
   "cell_type": "code",
   "execution_count": 225,
   "id": "ff4c4792-ffbe-475e-8315-761ce54494c6",
   "metadata": {},
   "outputs": [
    {
     "data": {
      "text/html": [
       "<div>\n",
       "<style scoped>\n",
       "    .dataframe tbody tr th:only-of-type {\n",
       "        vertical-align: middle;\n",
       "    }\n",
       "\n",
       "    .dataframe tbody tr th {\n",
       "        vertical-align: top;\n",
       "    }\n",
       "\n",
       "    .dataframe thead th {\n",
       "        text-align: right;\n",
       "    }\n",
       "</style>\n",
       "<table border=\"1\" class=\"dataframe\">\n",
       "  <thead>\n",
       "    <tr style=\"text-align: right;\">\n",
       "      <th></th>\n",
       "      <th>mean</th>\n",
       "      <th>count</th>\n",
       "    </tr>\n",
       "    <tr>\n",
       "      <th>bucket</th>\n",
       "      <th></th>\n",
       "      <th></th>\n",
       "    </tr>\n",
       "  </thead>\n",
       "  <tbody>\n",
       "    <tr>\n",
       "      <th>1</th>\n",
       "      <td>0.813569</td>\n",
       "      <td>103</td>\n",
       "    </tr>\n",
       "    <tr>\n",
       "      <th>2</th>\n",
       "      <td>0.991676</td>\n",
       "      <td>91</td>\n",
       "    </tr>\n",
       "    <tr>\n",
       "      <th>3</th>\n",
       "      <td>0.806703</td>\n",
       "      <td>90</td>\n",
       "    </tr>\n",
       "    <tr>\n",
       "      <th>4</th>\n",
       "      <td>1.079687</td>\n",
       "      <td>92</td>\n",
       "    </tr>\n",
       "    <tr>\n",
       "      <th>5</th>\n",
       "      <td>0.945063</td>\n",
       "      <td>105</td>\n",
       "    </tr>\n",
       "    <tr>\n",
       "      <th>...</th>\n",
       "      <td>...</td>\n",
       "      <td>...</td>\n",
       "    </tr>\n",
       "    <tr>\n",
       "      <th>9996</th>\n",
       "      <td>1.073939</td>\n",
       "      <td>93</td>\n",
       "    </tr>\n",
       "    <tr>\n",
       "      <th>9997</th>\n",
       "      <td>0.834333</td>\n",
       "      <td>89</td>\n",
       "    </tr>\n",
       "    <tr>\n",
       "      <th>9998</th>\n",
       "      <td>1.046668</td>\n",
       "      <td>117</td>\n",
       "    </tr>\n",
       "    <tr>\n",
       "      <th>9999</th>\n",
       "      <td>0.887004</td>\n",
       "      <td>96</td>\n",
       "    </tr>\n",
       "    <tr>\n",
       "      <th>10000</th>\n",
       "      <td>0.899631</td>\n",
       "      <td>110</td>\n",
       "    </tr>\n",
       "  </tbody>\n",
       "</table>\n",
       "<p>10000 rows × 2 columns</p>\n",
       "</div>"
      ],
      "text/plain": [
       "            mean  count\n",
       "bucket                 \n",
       "1       0.813569    103\n",
       "2       0.991676     91\n",
       "3       0.806703     90\n",
       "4       1.079687     92\n",
       "5       0.945063    105\n",
       "...          ...    ...\n",
       "9996    1.073939     93\n",
       "9997    0.834333     89\n",
       "9998    1.046668    117\n",
       "9999    0.887004     96\n",
       "10000   0.899631    110\n",
       "\n",
       "[10000 rows x 2 columns]"
      ]
     },
     "execution_count": 225,
     "metadata": {},
     "output_type": "execute_result"
    }
   ],
   "source": [
    "# Split the sample randomly into buckets:\n",
    "number_of_buckets = int(1e4)\n",
    "generated_buckets = [randint(1, number_of_buckets) for _ in range(df.shape[0])]\n",
    "\n",
    "# Calculate stats via buckets: \n",
    "bucket_sample = (df.assign(bucket=generated_buckets)\n",
    "                   .groupby('bucket')[\"metric\"]\n",
    "                   .agg(['mean', 'count'])\n",
    "                )\n",
    "bucket_sample"
   ]
  },
  {
   "cell_type": "code",
   "execution_count": 226,
   "id": "d39a4110-5b1c-4ef3-8d49-7f0be3af785a",
   "metadata": {},
   "outputs": [
    {
     "name": "stdout",
     "output_type": "stream",
     "text": [
      "\n",
      "Sample mean        = 1.0012881779683311\n",
      "Bucket Sample Mean = 1.0012572775932593\n",
      "\n",
      "\n",
      "SEM                = 0.0010021192074114965\n",
      "Bucket SEM         = 0.0010050230572892884\n",
      "\n",
      "\n",
      "\n"
     ]
    },
    {
     "data": {
      "text/plain": [
       "<seaborn.axisgrid.FacetGrid at 0x7fa563dc1c40>"
      ]
     },
     "execution_count": 226,
     "metadata": {},
     "output_type": "execute_result"
    },
    {
     "data": {
      "image/png": "[encoded data removed]",
      "text/plain": [
       "<Figure size 360x360 with 1 Axes>"
      ]
     },
     "metadata": {
      "needs_background": "light"
     },
     "output_type": "display_data"
    }
   ],
   "source": [
    "# Let's look at what we got: \n",
    "b_mean, b_sem = bucket_sample[\"mean\"].mean(), sps.sem(bucket_sample[\"mean\"])\n",
    "\n",
    "print(f\"\"\"\n",
    "Sample mean        = {float(s_mean)}\n",
    "Bucket Sample Mean = {float(b_mean)}\n",
    "\n",
    "\n",
    "SEM                = {float(s_sem)}\n",
    "Bucket SEM         = {float(b_sem)}\n",
    "\n",
    "\n",
    "\"\"\")\n",
    "sns.displot(bucket_sample[\"mean\"])"
   ]
  }
 ],
 "metadata": {
  "kernelspec": {
   "display_name": "Python 3 (ipykernel)",
   "language": "python",
   "name": "python3"
  },
  "language_info": {
   "codemirror_mode": {
    "name": "ipython",
    "version": 3
   },
   "file_extension": ".py",
   "mimetype": "text/x-python",
   "name": "python",
   "nbconvert_exporter": "python",
   "pygments_lexer": "ipython3",
   "version": "3.9.12"
  }
 },
 "nbformat": 4,
 "nbformat_minor": 5
}
