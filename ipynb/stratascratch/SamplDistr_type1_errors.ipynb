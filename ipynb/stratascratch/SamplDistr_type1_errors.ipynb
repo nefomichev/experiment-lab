{
 "cells": [
  {
   "cell_type": "markdown",
   "id": "d0244395-7cbb-478f-9b82-c3c95ac212d1",
   "metadata": {},
   "source": [
    "## Question from StrataScratch\n",
    "\n",
    "What happens when the sampling distribution is altered\n",
    "(e.g. filtering out all values below the mean) and\n",
    "how does it effect type 1 errors?\n",
    "\n",
    "## My Answer \n",
    "\n",
    "First of all, we should define: what the \"sampling distribution\" is?\n",
    "\n",
    "Lets assume the \"sampling distribution\" is the distibution of our sample statistic, for exaple - sample means distribution. Then we have to understand - what do we use this distibution for?\n",
    "\n",
    "If we use the distribution to costruct Confidence Interval, then we will incorrect interval bounds. Let's assume we want to calculate 10% CI for the M[X]. Then, if we alter the distibution - we will alter both of our bounds. Because our 5% percentille and 95% percentile that we would take as bounds will be differrent from real one. CI will be shifted far more to the right side and left tail will be completely removed. So, type 1 error will rise.\n",
    "\n",
    "Example:\n",
    "\n",
    "Assume, the null hypothesis is true.\n",
    "\n",
    "Before altering our sampling distribution has:\n",
    "\n",
    "sample mean = 505% percentile = 255 95% percentile = 75$ ,\n",
    "\n",
    "so, we will get re result that less than 25or more than 75ormorethan75, then will reject null hypthesis and make 1 type error.\n",
    "\n",
    "After altering our sampling distribution has:\n",
    "\n",
    "sample mean = 555% percentile = 515 95% percentile = 80$ ,\n",
    "\n",
    "Now, when we get less then 51$ we will reject the null hypothesis, it's much ofter than before altering, so fpr will be higher"
   ]
  },
  {
   "cell_type": "code",
   "execution_count": 9,
   "id": "d7a4df5e-5185-4c6c-b8cd-43e5103dda5e",
   "metadata": {},
   "outputs": [],
   "source": [
    "# let's check this out !\n",
    "\n",
    "import scipy.stats as sps\n",
    "import numpy as np \n",
    "import seaborn as sns"
   ]
  },
  {
   "cell_type": "code",
   "execution_count": 26,
   "id": "c5a3e2fd-3f99-4366-a632-a242ca44b38e",
   "metadata": {},
   "outputs": [],
   "source": [
    "N = 100\n",
    "NN = int(1e4)\n",
    "\n",
    "sampling_distribution = np.mean(sps.norm().rvs(N * NN).reshape(N, NN), axis=0)\n",
    "alt_sampling_distribution = sampling_distribution[np.where(sampling_distribution >= 0)]"
   ]
  },
  {
   "cell_type": "code",
   "execution_count": 27,
   "id": "f8d8c9f3-71c0-45d7-9a76-09b97d9ec9d5",
   "metadata": {},
   "outputs": [
    {
     "data": {
      "text/plain": [
       "array([0.0966929 , 0.14757857, 0.0328777 , ..., 0.1071294 , 0.12333969,\n",
       "       0.04914578])"
      ]
     },
     "execution_count": 27,
     "metadata": {},
     "output_type": "execute_result"
    }
   ],
   "source": [
    "alt_sampling_distribution"
   ]
  },
  {
   "cell_type": "code",
   "execution_count": 28,
   "id": "39655afe-4814-4068-ba35-8cb6e3e5767c",
   "metadata": {},
   "outputs": [
    {
     "data": {
      "text/plain": [
       "<seaborn.axisgrid.FacetGrid at 0x7f9d6312bbe0>"
      ]
     },
     "execution_count": 28,
     "metadata": {},
     "output_type": "execute_result"
    },
    {
     "data": {
      "image/png": "[encoded data removed]",
      "text/plain": [
       "<Figure size 500x500 with 1 Axes>"
      ]
     },
     "metadata": {},
     "output_type": "display_data"
    },
    {
     "data": {
      "image/png": "[encoded data removed]",
      "text/plain": [
       "<Figure size 500x500 with 1 Axes>"
      ]
     },
     "metadata": {},
     "output_type": "display_data"
    }
   ],
   "source": [
    "sns.displot(sampling_distribution)\n",
    "sns.displot(alt_sampling_distribution)"
   ]
  },
  {
   "cell_type": "code",
   "execution_count": 36,
   "id": "82a56534-4667-4802-aed1-fc6700b31115",
   "metadata": {},
   "outputs": [],
   "source": [
    "true_lower_bound, true_upper_bound = np.percentile(sampling_distribution, [5, 95])\n",
    "false_lower_bound, false_upper_bound = np.percentile(alt_sampling_distribution, [5, 95])"
   ]
  },
  {
   "cell_type": "code",
   "execution_count": 37,
   "id": "06793872-7e3c-4506-9721-faa39b427c30",
   "metadata": {},
   "outputs": [
    {
     "data": {
      "text/plain": [
       "(0.16535314192147607, 0.19760064796477436)"
      ]
     },
     "execution_count": 37,
     "metadata": {},
     "output_type": "execute_result"
    }
   ],
   "source": [
    "true_upper_bound, false_upper_bound"
   ]
  },
  {
   "cell_type": "code",
   "execution_count": 46,
   "id": "12779c2c-45dc-48c4-bdf1-876b8a2cbe8d",
   "metadata": {},
   "outputs": [],
   "source": [
    "experiments_means = np.mean(sps.norm().rvs(N * NN).reshape(N, NN), axis=0)"
   ]
  },
  {
   "cell_type": "code",
   "execution_count": 48,
   "id": "72626b30-0401-4a73-b134-9ffc55136690",
   "metadata": {},
   "outputs": [
    {
     "name": "stdout",
     "output_type": "stream",
     "text": [
      "0.0972\n"
     ]
    }
   ],
   "source": [
    "true_fp = sum([1 for x in experiments_means if (x < true_lower_bound) or (x > true_upper_bound)])\n",
    "print(true_fp / NN)"
   ]
  },
  {
   "cell_type": "code",
   "execution_count": 49,
   "id": "2af49a64-0566-492c-b717-c050a1c018bf",
   "metadata": {},
   "outputs": [
    {
     "name": "stdout",
     "output_type": "stream",
     "text": [
      "0.5524\n"
     ]
    }
   ],
   "source": [
    "altered_fp = sum([1 for x in experiments_means if (x < false_lower_bound) or (x > false_upper_bound)])\n",
    "print(altered_fp / NN)"
   ]
  }
 ],
 "metadata": {
  "kernelspec": {
   "display_name": "Python 3 (ipykernel)",
   "language": "python",
   "name": "python3"
  },
  "language_info": {
   "codemirror_mode": {
    "name": "ipython",
    "version": 3
   },
   "file_extension": ".py",
   "mimetype": "text/x-python",
   "name": "python",
   "nbconvert_exporter": "python",
   "pygments_lexer": "ipython3",
   "version": "3.9.12"
  }
 },
 "nbformat": 4,
 "nbformat_minor": 5
}
