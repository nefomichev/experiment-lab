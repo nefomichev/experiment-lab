{
 "cells": [
  {
   "cell_type": "code",
   "execution_count": 1,
   "id": "cb21bbde-cb76-4c47-af5b-3da9dba70216",
   "metadata": {},
   "outputs": [],
   "source": [
    "import pandas as pd\n",
    "import numpy as np\n",
    "import scipy.stats as sps\n",
    "import seaborn as sns\n",
    "\n",
    "from random import randint\n",
    "from statsmodels.stats.proportion import proportion_confint"
   ]
  },
  {
   "cell_type": "markdown",
   "id": "6efbba51-4abe-4d9a-b3ff-4f2f4ab5126d",
   "metadata": {},
   "source": [
    "# Abstract\n",
    "\n",
    "Ratio metrics are common guests at analysts' table. Example: We want to study a conversion improvement from view of an ad block to the click on it.\n",
    "\n",
    "So, we have GroupA and GroupB with 5 customers in each of them. Each user have some views and some of them was successfuly converted to clicks:\n",
    "\n",
    "\n",
    "GroupA_views = [2, 1, 10, 1, 5]\n",
    "\n",
    "GroupA_clicks= [1, 0,  2, 0, 4]\n",
    "\n",
    "GroupA_user_ctr = [1/2, 0/1, 2/10, 0/1, 4/5] = [0.5, 0.0, 0.2, 0.0, 0.8]\n",
    "\n",
    "GroupA_global_ctr = sum(GroupA_clicks) / sum(GroupA_views) = sum([1, 0,  2, 0, 4]) / sum([2, 1, 10, 1, 5]) = 0.36% \n",
    "\n",
    "**Important**\n",
    "We have to differ GroupA_user_ctr and GroupA_global_ctr these are two diffent metrics to study! \n",
    "A common mistake is to use AVG(GroupA_user_ctr) instead of GroupA_global_ctr. In our case:\n",
    "\n",
    "GroupA_global_ctr = 0.36, but AVG(GroupA_user_ctr) = 0.3 ! \n",
    "\n",
    "Where does this difference come from?\n",
    "\n",
    "\n",
    "\n",
    "\n"
   ]
  },
  {
   "cell_type": "code",
   "execution_count": 2,
   "id": "75ffdc58-7b5a-4976-ba57-93b2300f570f",
   "metadata": {},
   "outputs": [],
   "source": [
    "def generate_data(N: int,\n",
    "                  NN: int,\n",
    "                  views_mean: float,\n",
    "                  views_skew: float,\n",
    "                  ctr_mean: float,\n",
    "                  ctr_skew: float,\n",
    "                  uplift: float):\n",
    "    \"\"\"\n",
    "    Generates experimental data for N users in NN experiments\n",
    "    \"\"\"\n",
    "    views_0 = np.exp(sps.norm(views_mean, views_skew).rvs(NN * N)).astype(np.int32).reshape(NN, N) + 1\n",
    "    views_1 = np.exp(sps.norm(views_mean, views_skew).rvs(NN * N)).astype(np.int32).reshape(NN, N) + 1\n",
    "\n",
    "    # views are always positive, abs is fixing numerical issues with high skewness\n",
    "    views_0 = np.absolute(views_0)\n",
    "    views_1 = np.absolute(views_1)\n",
    "\n",
    "    alpha_0 = ctr_mean * ctr_skew / (1 - ctr_mean)\n",
    "    ctrs_0 = sps.beta(alpha_0, ctr_skew).rvs(NN * N).reshape(NN, N)\n",
    "\n",
    "    alpha_1 = ctr_mean * (1 + uplift) * ctr_skew / (1 - ctr_mean * (1 + uplift))\n",
    "    ctrs_1 = sps.beta(alpha_1, ctr_skew).rvs(NN * N).reshape(NN, N)\n",
    "\n",
    "    clicks_0 = sps.binom(n=views_0, p=ctrs_0).rvs()\n",
    "    clicks_1 = sps.binom(n=views_1, p=ctrs_1).rvs()\n",
    "\n",
    "    return (ctrs_0.astype(np.float64), clicks_0.astype(np.float64), views_0.astype(np.float64), \n",
    "            ctrs_1.astype(np.float64), clicks_1.astype(np.float64), views_1.astype(np.float64))"
   ]
  },
  {
   "cell_type": "code",
   "execution_count": 3,
   "id": "d21c6b7b-abf5-465a-bf46-27236850fed4",
   "metadata": {},
   "outputs": [],
   "source": [
    "def multiple_t_test(a, b):\n",
    "    \"\"\"\n",
    "    Calculates two-sided t-test p-values for multiple experiments\n",
    "    \"\"\"\n",
    "    result = list(map(lambda x: sps.ttest_ind(x[0], x[1]).pvalue, zip(a, b)))\n",
    "    return np.array(result)"
   ]
  },
  {
   "cell_type": "code",
   "execution_count": 4,
   "id": "26e37a31-62b3-4218-93cd-8663f57400a4",
   "metadata": {},
   "outputs": [],
   "source": [
    "def bucketization(clicks_0, views_0, clicks_1, views_1, n_buckets=200):\n",
    "    \"\"\"\n",
    "    Does simple bucketization and calculates p-values for all experiments using t_test\n",
    "    \"\"\"\n",
    "\n",
    "    n_experiments, n_users = clicks_0.shape\n",
    "\n",
    "    values_0 = np.zeros((n_experiments, n_buckets))\n",
    "    values_1 = np.zeros((n_experiments, n_buckets))\n",
    "\n",
    "    for b in np.arange(n_buckets):\n",
    "        ind = np.arange(b * n_users / n_buckets, b * n_users / n_buckets + n_users / n_buckets).astype(np.int32)\n",
    "        values_0[:, b] = np.sum(clicks_0[:, ind], axis=1) / np.sum(views_0[:, ind], axis=1)\n",
    "        values_1[:, b] = np.sum(clicks_1[:, ind], axis=1) / np.sum(views_1[:, ind], axis=1)\n",
    "\n",
    "    return multiple_t_test(values_0, values_1)"
   ]
  },
  {
   "cell_type": "code",
   "execution_count": 5,
   "id": "8264b3c1-1ed7-4f07-8979-010e9bcbff35",
   "metadata": {},
   "outputs": [],
   "source": [
    "# More general reazation:\n",
    "\n",
    "def weighted_bucketization(metric_0, weight_0, metric_1, weight_1, n_buckets=200):\n",
    "    \"\"\"\n",
    "    Does simple bucketization and calculates p-values for all experiments using t_test\n",
    "    \"\"\"\n",
    "\n",
    "    n_experiments, n_users = clicks_0.shape\n",
    "\n",
    "    values_0 = np.zeros((n_experiments, n_buckets))\n",
    "    values_1 = np.zeros((n_experiments, n_buckets))\n",
    "\n",
    "    for b in np.arange(n_buckets):\n",
    "        ind = np.arange(b * n_users / n_buckets, b * n_users / n_buckets + n_users / n_buckets).astype(np.int32)\n",
    "        values_0[:, b] = np.sum(metric_0[:, ind] * weight_0[:, ind], axis=1) / np.sum(weight_0[:, ind], axis=1)\n",
    "        values_1[:, b] = np.sum(metric_1[:, ind] * weight_1[:, ind], axis=1) / np.sum(weight_1[:, ind], axis=1)\n",
    "\n",
    "    return multiple_t_test(values_0, values_1)"
   ]
  },
  {
   "cell_type": "code",
   "execution_count": 6,
   "id": "84283e34-7696-4413-9afe-7b4d0cc3e8c2",
   "metadata": {},
   "outputs": [],
   "source": [
    "# Parameters\n",
    "N = 5000\n",
    "NN = 2000\n",
    "views_mean = 1.0\n",
    "views_skew = 1.0\n",
    "ctr_mean = 0.02\n",
    "ctr_skew = 250.\n",
    "uplift = 0"
   ]
  },
  {
   "cell_type": "code",
   "execution_count": 7,
   "id": "abac9858-783e-47f2-a501-d1f7f96418a1",
   "metadata": {},
   "outputs": [],
   "source": [
    "ctrs_0, clicks_0, views_0, ctrs_1, clicks_1, views_1 = generate_data(N, NN, views_mean, views_skew, ctr_mean, ctr_skew, uplift)"
   ]
  },
  {
   "cell_type": "code",
   "execution_count": 8,
   "id": "c417ec2c-81fe-4acd-8843-744ecf3cb53f",
   "metadata": {},
   "outputs": [
    {
     "data": {
      "text/plain": [
       "<seaborn.axisgrid.FacetGrid at 0x7fa9f7b511f0>"
      ]
     },
     "execution_count": 8,
     "metadata": {},
     "output_type": "execute_result"
    },
    {
     "data": {
      "image/png": "[encoded data removed]",
      "text/plain": [
       "<Figure size 360x360 with 1 Axes>"
      ]
     },
     "metadata": {
      "needs_background": "light"
     },
     "output_type": "display_data"
    },
    {
     "data": {
      "image/png": "[encoded data removed]",
      "text/plain": [
       "<Figure size 500x500 with 1 Axes>"
      ]
     },
     "metadata": {},
     "output_type": "display_data"
    },
    {
     "data": {
      "image/png": "[encoded data removed]",
      "text/plain": [
       "<Figure size 500x500 with 1 Axes>"
      ]
     },
     "metadata": {},
     "output_type": "display_data"
    }
   ],
   "source": [
    "sns.displot(views_0[0])\n",
    "sns.displot(ctrs_0[0])\n",
    "sns.displot(clicks_0[0])"
   ]
  },
  {
   "cell_type": "code",
   "execution_count": 9,
   "id": "f2a5308e-e21d-407d-b635-ee4dc3cfd75d",
   "metadata": {},
   "outputs": [],
   "source": [
    "aa_results = bucketization(clicks_0, views_0, clicks_1, views_1)\n",
    "# same as \n",
    "aa_results_1 = weighted_bucketization(clicks_0 / views_0, views_0, clicks_1 / views_1, views_1)"
   ]
  },
  {
   "cell_type": "code",
   "execution_count": 10,
   "id": "2e5cfdd6-7615-4a09-bb59-3e8f901353a3",
   "metadata": {},
   "outputs": [
    {
     "name": "stdout",
     "output_type": "stream",
     "text": [
      "\n",
      "     FPR = 0.05 with CI (0.04044831705972788, 0.059551682940272126)\n",
      "       \n"
     ]
    }
   ],
   "source": [
    "fp = sum(1 for x in aa_results if x <= 0.05)\n",
    "\n",
    "print(f\"\"\"\n",
    "     FPR = {fp / NN} with CI {proportion_confint(count=fp, nobs=NN)}\n",
    "       \"\"\")"
   ]
  },
  {
   "cell_type": "code",
   "execution_count": 11,
   "id": "30fbf5c3-066d-41ef-86dc-e9968e19c2e9",
   "metadata": {},
   "outputs": [
    {
     "name": "stdout",
     "output_type": "stream",
     "text": [
      "\n",
      "     FPR = 0.05 with CI (0.04044831705972788, 0.059551682940272126)\n",
      "       \n"
     ]
    }
   ],
   "source": [
    "fp = sum(1 for x in aa_results_1 if x <= 0.05)\n",
    "\n",
    "print(f\"\"\"\n",
    "     FPR = {fp / NN} with CI {proportion_confint(count=fp, nobs=NN)}\n",
    "       \"\"\")"
   ]
  },
  {
   "cell_type": "code",
   "execution_count": null,
   "id": "74406ebe-99dd-4d54-a58b-6e40bc57babc",
   "metadata": {},
   "outputs": [],
   "source": []
  }
 ],
 "metadata": {
  "kernelspec": {
   "display_name": "Python 3 (ipykernel)",
   "language": "python",
   "name": "python3"
  },
  "language_info": {
   "codemirror_mode": {
    "name": "ipython",
    "version": 3
   },
   "file_extension": ".py",
   "mimetype": "text/x-python",
   "name": "python",
   "nbconvert_exporter": "python",
   "pygments_lexer": "ipython3",
   "version": "3.9.12"
  }
 },
 "nbformat": 4,
 "nbformat_minor": 5
}
