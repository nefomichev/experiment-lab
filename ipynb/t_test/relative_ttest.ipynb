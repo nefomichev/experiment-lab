{
 "cells": [
  {
   "cell_type": "markdown",
   "id": "b658ac1f-2b31-4e1d-aa18-257fa3b0b244",
   "metadata": {
    "tags": []
   },
   "source": [
    "### TODO\n",
    "\n",
    "- [x] Initial code\n",
    "- [x] Run Monte-Carlo, check criteria\n",
    "- [ ] Add theory, formulas\n",
    "- [ ] Explain how it works\n",
    "- [ ] Compare to classic ttest "
   ]
  },
  {
   "cell_type": "code",
   "execution_count": 145,
   "id": "b21cfb55-e7b0-4209-a398-c6d8c3557170",
   "metadata": {},
   "outputs": [],
   "source": [
    "import numpy as np\n",
    "import scipy.stats as sps\n",
    "import seaborn as sns\n",
    "from collections import namedtuple\n",
    "from statsmodels.stats.proportion import proportion_confint"
   ]
  },
  {
   "cell_type": "code",
   "execution_count": 146,
   "id": "f363fb60-5008-4c4d-9bbf-995810cabb44",
   "metadata": {},
   "outputs": [],
   "source": [
    "def relative_ttest(control, test, axis=0, alpha=0.05):\n",
    "    \"\"\" Student's T test for relative difference with confidence interval for two sided hypotesis\"\"\"\n",
    "    \n",
    "    # Sample means\n",
    "    mean_control = np.mean(control, axis=axis)\n",
    "    mean_test = np.mean(test, axis=axis)\n",
    "    \n",
    "    # SEM = Standard Error of the Mean aka. std for means for given sample size\n",
    "    sem_control  = np.var(control, axis=axis) / np.shape(control)[axis]\n",
    "    sem_test  = np.var(test, axis=axis) / np.shape(test)[axis]\n",
    "    \n",
    "    # Differences\n",
    "    difference_mean = mean_test - mean_control\n",
    "    difference_sem  = sem_test + sem_control\n",
    "    relative_mu = difference_mean / mean_control\n",
    " \n",
    "    # Taylors linearization to get corrent variance estimation for relative difference\n",
    "    covariance = -sem_control\n",
    "    relative_var =  difference_sem / (mean_control ** 2) \\\n",
    "                    + ((difference_mean ** 2)  / (mean_control ** 4)) * sem_control \\\n",
    "                    - 2 * (difference_mean / (mean_control ** 3)) * covariance\n",
    "    \n",
    "    # Convert to array if 1 dim for consistency\n",
    "    relative_mu, relative_var = (np.array(i, ndmin=1) for i in (relative_mu, relative_var))\n",
    "    \n",
    "    # Mean difference distribution\n",
    "    distr_params = zip(relative_mu, relative_var)\n",
    "    distrs = np.array([sps.norm(loc=mu, scale=np.sqrt(var)) for mu, var in distr_params])\n",
    "    \n",
    "    # Results\n",
    "    bounds = np.array([distr.ppf([alpha/2, 1 - alpha/2]) for distr in distrs])\n",
    "    ci_lengths = np.array([bound[1] - bound[0] for bound in bounds])\n",
    "    pvalues = np.array([2 * min(distr.cdf(0), distr.sf(0)) for distr in  distrs])\n",
    "    \n",
    "    RelTtest_indResult = namedtuple('RelTtest_indResult', \n",
    "                                        ['pvalue', 'effect', 'ci_length', 'bounds'])\n",
    "    \n",
    "    return RelTtest_indResult(pvalues, relative_mu, ci_lengths, bounds)"
   ]
  },
  {
   "cell_type": "code",
   "execution_count": 147,
   "id": "86502ee0-4aa6-4f0e-b150-42e4a768cee6",
   "metadata": {},
   "outputs": [
    {
     "data": {
      "text/plain": [
       "RelTtest_indResult(pvalue=array([0.0181358]), effect=array([0.11822675]), ci_length=array([0.19613751]), bounds=array([[0.02015799, 0.2162955 ]]))"
      ]
     },
     "execution_count": 147,
     "metadata": {},
     "output_type": "execute_result"
    }
   ],
   "source": [
    "# 1 dim test\n",
    "control = sps.expon().rvs(1000)\n",
    "test = sps.expon().rvs(1000)\n",
    "\n",
    "relative_ttest(control, test)"
   ]
  },
  {
   "cell_type": "code",
   "execution_count": 148,
   "id": "67233563-1bb6-469b-89b5-99e6e292b7fa",
   "metadata": {},
   "outputs": [
    {
     "data": {
      "text/plain": [
       "RelTtest_indResult(pvalue=array([0.77017598, 0.34125288, 0.46434683]), effect=array([ 0.01325476, -0.04232771, -0.03216583]), ci_length=array([0.17784917, 0.17434364, 0.17231975]), bounds=array([[-0.07566983,  0.10217934],\n",
       "       [-0.12949953,  0.04484411],\n",
       "       [-0.1183257 ,  0.05399405]]))"
      ]
     },
     "execution_count": 148,
     "metadata": {},
     "output_type": "execute_result"
    }
   ],
   "source": [
    "# Several dim test\n",
    "control = sps.expon().rvs([1000 , 3])\n",
    "test = sps.expon().rvs([1000 , 3])\n",
    "\n",
    "relative_ttest(control, test)"
   ]
  },
  {
   "cell_type": "code",
   "execution_count": 149,
   "id": "f6c558a8-fe3c-4c8e-abfd-4d56000a196f",
   "metadata": {},
   "outputs": [],
   "source": [
    "def check_for_ttest_applicability(distribution, sample_size, stat_test, iters=int(1e4)):\n",
    "    \"\"\"Simple AA test MonteCarlo with Students Test\"\"\"\n",
    "    # Generate samples\n",
    "    control = distribution.rvs([sample_size, iters])\n",
    "    test = distribution.rvs([sample_size, iters])\n",
    "    control_sample_means = np.mean(control, axis=0)\n",
    "    \n",
    "    # FPR for t test check\n",
    "    false_positives= np.sum(stat_test(test, control).pvalue <= 0.05)\n",
    "    false_positive_rate = false_positives / iters\n",
    "    ci_fpr = proportion_confint(false_positives, nobs=iters, method='wilson')\n",
    "    \n",
    "    # Results: \n",
    "    print(f\"\\n\\nFalse Positive Rate for T-test = {false_positive_rate}, with CI {ci_fpr}\\n\\n\")\n",
    "    sns.displot(data=control[0])\n",
    "    sns.displot(control_sample_means, color='orange') "
   ]
  },
  {
   "cell_type": "code",
   "execution_count": 151,
   "id": "9e8b7ec0-8bb9-4a2f-afd4-ebd064a458aa",
   "metadata": {},
   "outputs": [
    {
     "name": "stdout",
     "output_type": "stream",
     "text": [
      "\n",
      "\n",
      "False Positive Rate for T-test = 0.0479, with CI (0.043885215617063954, 0.05226199570970181)\n",
      "\n",
      "\n"
     ]
    },
    {
     "data": {
      "image/png": "[encoded data removed]",
      "text/plain": [
       "<Figure size 500x500 with 1 Axes>"
      ]
     },
     "metadata": {},
     "output_type": "display_data"
    },
    {
     "data": {
      "image/png": "[encoded data removed]",
      "text/plain": [
       "<Figure size 500x500 with 1 Axes>"
      ]
     },
     "metadata": {},
     "output_type": "display_data"
    }
   ],
   "source": [
    "distribution, sample_size = sps.expon(5), 1000\n",
    "\n",
    "check_for_ttest_applicability(distribution, sample_size, relative_ttest)"
   ]
  }
 ],
 "metadata": {
  "kernelspec": {
   "display_name": "Python 3 (ipykernel)",
   "language": "python",
   "name": "python3"
  },
  "language_info": {
   "codemirror_mode": {
    "name": "ipython",
    "version": 3
   },
   "file_extension": ".py",
   "mimetype": "text/x-python",
   "name": "python",
   "nbconvert_exporter": "python",
   "pygments_lexer": "ipython3",
   "version": "3.9.12"
  }
 },
 "nbformat": 4,
 "nbformat_minor": 5
}
