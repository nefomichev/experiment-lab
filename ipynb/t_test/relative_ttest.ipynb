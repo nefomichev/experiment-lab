{
 "cells": [
  {
   "cell_type": "markdown",
   "id": "b658ac1f-2b31-4e1d-aa18-257fa3b0b244",
   "metadata": {
    "tags": []
   },
   "source": [
    "### TODO\n",
    "\n",
    "- [x] Initial code\n",
    "- [ ] Add theory, formulas\n",
    "- [ ] Explain how it works\n",
    "- [ ] Compare to classic ttest \n",
    "- [ ] Run Monte-Carlo, check criteria"
   ]
  },
  {
   "cell_type": "code",
   "execution_count": 3,
   "id": "b21cfb55-e7b0-4209-a398-c6d8c3557170",
   "metadata": {},
   "outputs": [],
   "source": [
    "import numpy as np\n",
    "import scipy.stats as sps"
   ]
  },
  {
   "cell_type": "code",
   "execution_count": 44,
   "id": "f363fb60-5008-4c4d-9bbf-995810cabb44",
   "metadata": {},
   "outputs": [],
   "source": [
    "def relative_ttest(control, test, alpha=0.05):\n",
    "    \"\"\" Student's T test for relative difference with confidence interval for two sided hypotesis\"\"\"\n",
    "    \n",
    "    # Sample means\n",
    "    mean_control = np.mean(control)\n",
    "    mean_test = np.mean(test)\n",
    "    \n",
    "    # SEM = Standard Error of the Mean aka. std for means for given sample size\n",
    "    sem_control  = np.var(control) / len(control) \n",
    "    sem_test  = np.var(test) / len(test)\n",
    "    \n",
    "    # Differences\n",
    "    difference_mean = mean_test - mean_control\n",
    "    difference_sem  = sem_test + sem_control\n",
    "    relative_mu = difference_mean / mean_control\n",
    "    \n",
    "    covariance = -sem_control\n",
    "    \n",
    "    # Taylors linearization to get corrent variance estimation for relative difference\n",
    "    relative_var =  difference_sem / (mean_control ** 2) \\\n",
    "                    + ((difference_mean ** 2)  / (mean_control ** 4)) * sem_control \\\n",
    "                    - 2 * (difference_mean / (mean_control ** 3)) * covariance\n",
    "    \n",
    "    relative_distribution = sps.norm(loc=relative_mu, scale=np.sqrt(relative_var))\n",
    "    left_bound, right_bound = relative_distribution.ppf([alpha / 2, 1 - alpha/2])\n",
    "    \n",
    "    ci_length = (right_bound - left_bound)\n",
    "    pvalue = 2 * min(relative_distribution.cdf(0), relative_distribution.sf(0))\n",
    "    return {\"p-value\": pvalue, \n",
    "            \"effect\": relative_mu, \n",
    "            \"ci_length\": ci_length, \n",
    "            \"left_bound\": left_bound,\n",
    "            \"right_bound\": right_bound}"
   ]
  },
  {
   "cell_type": "code",
   "execution_count": 45,
   "id": "86502ee0-4aa6-4f0e-b150-42e4a768cee6",
   "metadata": {},
   "outputs": [
    {
     "data": {
      "text/plain": [
       "{'p-value': 0.16423043316840946,\n",
       " 'effect': -0.05968870331736494,\n",
       " 'ci_length': 0.1682086230232332,\n",
       " 'left_bound': -0.14379301482898155,\n",
       " 'right_bound': 0.02441560819425164}"
      ]
     },
     "execution_count": 45,
     "metadata": {},
     "output_type": "execute_result"
    }
   ],
   "source": [
    "control = sps.expon().rvs(1000)\n",
    "test = sps.expon().rvs(1000)\n",
    "\n",
    "relative_ttest(control, test)"
   ]
  }
 ],
 "metadata": {
  "kernelspec": {
   "display_name": "Python 3 (ipykernel)",
   "language": "python",
   "name": "python3"
  },
  "language_info": {
   "codemirror_mode": {
    "name": "ipython",
    "version": 3
   },
   "file_extension": ".py",
   "mimetype": "text/x-python",
   "name": "python",
   "nbconvert_exporter": "python",
   "pygments_lexer": "ipython3",
   "version": "3.9.12"
  }
 },
 "nbformat": 4,
 "nbformat_minor": 5
}
