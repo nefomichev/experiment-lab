{
 "cells": [
  {
   "cell_type": "markdown",
   "id": "b658ac1f-2b31-4e1d-aa18-257fa3b0b244",
   "metadata": {
    "tags": []
   },
   "source": [
    "### TODO\n",
    "\n",
    "- [x] Initial code\n",
    "- [x] Run Monte-Carlo, check criteria\n",
    "- [ ] Add theory, formulas\n",
    "- [ ] Explain how it works\n",
    "- [ ] Compare to classic ttest "
   ]
  },
  {
   "cell_type": "code",
   "execution_count": 1,
   "id": "b21cfb55-e7b0-4209-a398-c6d8c3557170",
   "metadata": {},
   "outputs": [],
   "source": [
    "from collections import namedtuple\n",
    "import scipy.stats as sps\n",
    "import statsmodels.stats.api as sms\n",
    "from tqdm.notebook import tqdm as tqdm_notebook # tqdm – библиотека для визуализации прогресса в цикле\n",
    "from collections import defaultdict\n",
    "from statsmodels.stats.proportion import proportion_confint\n",
    "import numpy as np\n",
    "import itertools\n",
    "import seaborn as sns\n",
    "import matplotlib.pyplot as plt\n",
    "ExperimentComparisonResults = namedtuple('ExperimentComparisonResults', \n",
    "                                        ['pvalue', 'effect', 'ci_length', 'left_bound', 'right_bound'])"
   ]
  },
  {
   "cell_type": "code",
   "execution_count": 8,
   "id": "f363fb60-5008-4c4d-9bbf-995810cabb44",
   "metadata": {},
   "outputs": [],
   "source": [
    "def relative_ttest(control, test, axis=0, alpha=0.05):\n",
    "    \"\"\" Student's T test for relative difference with confidence interval for two sided hypotesis\"\"\"\n",
    "    \n",
    "    # Sample means\n",
    "    mean_control = np.mean(control, axis=axis)\n",
    "    mean_test = np.mean(test, axis=axis)\n",
    "    \n",
    "    # Variance of means for given sample size\n",
    "    var_mean_control  = np.var(control, axis=axis) / np.shape(control)[axis]\n",
    "    var_mean_test  = np.var(test, axis=axis) / np.shape(test)[axis]\n",
    "    \n",
    "    # Differences\n",
    "    difference_mean = mean_test - mean_control\n",
    "    difference_sem  = var_mean_test + var_mean_control\n",
    "    relative_mu = difference_mean / mean_control\n",
    " \n",
    "    # Taylor's series to get corrent variance estimation for relative difference\n",
    "    covariance = -var_mean_control\n",
    "    relative_var =  difference_sem / (mean_control ** 2) \\\n",
    "                    + ((difference_mean ** 2)  / (mean_control ** 4)) * var_mean_control \\\n",
    "                    - 2 * (difference_mean / (mean_control ** 3)) * covariance\n",
    "    \n",
    "    # Convert to array if 1 dim for consistency\n",
    "    relative_mu, relative_var = (np.array(i, ndmin=1) for i in (relative_mu, relative_var))\n",
    "    \n",
    "    # Mean difference distribution\n",
    "    distr_params = zip(relative_mu, relative_var)\n",
    "    distrs = np.array([sps.norm(loc=mu, scale=np.sqrt(var)) for mu, var in distr_params])\n",
    "    \n",
    "    # Results\n",
    "    bounds = np.array([distr.ppf([alpha/2, 1 - alpha/2]) for distr in distrs])\n",
    "    ci_lengths = np.array([bound[1] - bound[0] for bound in bounds])\n",
    "    pvalues = np.array([2 * min(distr.cdf(0), distr.sf(0)) for distr in  distrs])\n",
    "    \n",
    "    RelTtest_indResult = namedtuple('RelTtest_indResult', \n",
    "                                        ['pvalue', 'effect', 'ci_length', 'bounds'])\n",
    "    \n",
    "    return RelTtest_indResult(pvalues, relative_mu, ci_lengths, bounds)"
   ]
  },
  {
   "cell_type": "code",
   "execution_count": 9,
   "id": "86502ee0-4aa6-4f0e-b150-42e4a768cee6",
   "metadata": {},
   "outputs": [
    {
     "data": {
      "text/plain": [
       "RelTtest_indResult(pvalue=array([0.5128006]), effect=array([0.03094508]), ci_length=array([0.18534088]), bounds=array([[-0.06172536,  0.12361552]]))"
      ]
     },
     "execution_count": 9,
     "metadata": {},
     "output_type": "execute_result"
    }
   ],
   "source": [
    "# 1 dim test\n",
    "control = sps.expon().rvs(1000)\n",
    "test = sps.expon().rvs(1000)\n",
    "\n",
    "relative_ttest(control, test)"
   ]
  },
  {
   "cell_type": "code",
   "execution_count": 10,
   "id": "67233563-1bb6-469b-89b5-99e6e292b7fa",
   "metadata": {},
   "outputs": [
    {
     "data": {
      "text/plain": [
       "RelTtest_indResult(pvalue=array([0.87313754, 0.90699332, 0.41957797]), effect=array([ 0.00725543, -0.0053411 ,  0.03626827]), ci_length=array([0.17811716, 0.17920385, 0.17613625]), bounds=array([[-0.08180315,  0.09631401],\n",
       "       [-0.09494302,  0.08426083],\n",
       "       [-0.05179985,  0.1243364 ]]))"
      ]
     },
     "execution_count": 10,
     "metadata": {},
     "output_type": "execute_result"
    }
   ],
   "source": [
    "# Several dim test\n",
    "control = sps.expon().rvs([1000 , 3])\n",
    "test = sps.expon().rvs([1000 , 3])\n",
    "\n",
    "relative_ttest(control, test)"
   ]
  },
  {
   "cell_type": "code",
   "execution_count": 11,
   "id": "f6c558a8-fe3c-4c8e-abfd-4d56000a196f",
   "metadata": {},
   "outputs": [],
   "source": [
    "def check_for_ttest_applicability(distribution, sample_size, stat_test, iters=int(1e4)):\n",
    "    \"\"\"Simple AA test MonteCarlo with Students Test\"\"\"\n",
    "    # Generate samples\n",
    "    control = distribution.rvs([sample_size, iters])\n",
    "    test = distribution.rvs([sample_size, iters])\n",
    "    control_sample_means = np.mean(control, axis=0)\n",
    "    \n",
    "    # FPR for t test check\n",
    "    false_positives= np.sum(stat_test(test, control).pvalue <= 0.05)\n",
    "    false_positive_rate = false_positives / iters\n",
    "    ci_fpr = proportion_confint(false_positives, nobs=iters, method='wilson')\n",
    "    \n",
    "    # Results: \n",
    "    print(f\"\\n\\nFalse Positive Rate for T-test = {false_positive_rate}, with CI {ci_fpr}\\n\\n\")\n",
    "    sns.displot(data=control[0])\n",
    "    sns.displot(control_sample_means, color='orange') "
   ]
  },
  {
   "cell_type": "code",
   "execution_count": null,
   "id": "9e8b7ec0-8bb9-4a2f-afd4-ebd064a458aa",
   "metadata": {},
   "outputs": [
    {
     "name": "stdout",
     "output_type": "stream",
     "text": [
      "\n",
      "\n",
      "False Positive Rate for T-test = 0.0508, with CI (0.04666599590665271, 0.05527898822956312)\n",
      "\n",
      "\n"
     ]
    },
    {
     "data": {
      "image/png": "[encoded data removed]",
      "text/plain": [
       "<Figure size 500x500 with 1 Axes>"
      ]
     },
     "metadata": {},
     "output_type": "display_data"
    },
    {
     "data": {
      "image/png": "[encoded data removed]",
      "text/plain": [
       "<Figure size 500x500 with 1 Axes>"
      ]
     },
     "metadata": {},
     "output_type": "display_data"
    }
   ],
   "source": [
    "distribution, sample_size = sps.expon(5), 1000\n",
    "\n",
    "check_for_ttest_applicability(distribution, sample_size, relative_ttest)"
   ]
  },
  {
   "cell_type": "code",
   "execution_count": 2,
   "id": "0c12ef03-387b-4a99-be1b-86cd9784faeb",
   "metadata": {},
   "outputs": [],
   "source": [
    "N, NN = int(1e4), int(1e4)\n",
    "\n",
    "mu_0 = 1\n",
    "mu_1 = 100\n",
    "\n",
    "sampling_distr_0 = np.mean(sps.expon(mu_0).rvs(N * NN).reshape(N, NN), axis=1)\n",
    "sampling_distr_1 = np.mean(sps.expon(mu_1).rvs(N * NN).reshape(N, NN), axis=1)\n",
    "mean_diff_distr = (sampling_distr_0 - sampling_distr_1) / (mu_1 + 1)\n",
    "relative_mean_distr = ((sampling_distr_0 - sampling_distr_1) / sampling_distr_1) "
   ]
  },
  {
   "cell_type": "code",
   "execution_count": 3,
   "id": "9933b72c-586c-4870-b738-28d11ad829c3",
   "metadata": {},
   "outputs": [
    {
     "data": {
      "text/plain": [
       "<seaborn.axisgrid.FacetGrid at 0x7f06fc76a2e0>"
      ]
     },
     "execution_count": 3,
     "metadata": {},
     "output_type": "execute_result"
    },
    {
     "data": {
      "image/png": "[encoded data removed]",
      "text/plain": [
       "<Figure size 360x360 with 1 Axes>"
      ]
     },
     "metadata": {
      "needs_background": "light"
     },
     "output_type": "display_data"
    }
   ],
   "source": [
    "sns.displot(mean_diff_distr)"
   ]
  },
  {
   "cell_type": "code",
   "execution_count": 4,
   "id": "06624258-90fc-46ae-8d56-25df918a2797",
   "metadata": {},
   "outputs": [
    {
     "name": "stdout",
     "output_type": "stream",
     "text": [
      "-0.9804215870724099 -0.979968560008202 0.0004530270642079115\n"
     ]
    }
   ],
   "source": [
    "f_l, f_r = np.percentile(mean_diff_distr, [5, 95]) \n",
    "print(f_l, f_r, f_r - f_l)"
   ]
  },
  {
   "cell_type": "code",
   "execution_count": 5,
   "id": "7b28b61b-beb2-426a-909c-e22e1231e235",
   "metadata": {},
   "outputs": [
    {
     "data": {
      "text/plain": [
       "<seaborn.axisgrid.FacetGrid at 0x7f06984a35b0>"
      ]
     },
     "execution_count": 5,
     "metadata": {},
     "output_type": "execute_result"
    },
    {
     "data": {
      "image/png": "[encoded data removed]",
      "text/plain": [
       "<Figure size 500x500 with 1 Axes>"
      ]
     },
     "metadata": {},
     "output_type": "display_data"
    }
   ],
   "source": [
    "sns.displot(relative_mean_distr)"
   ]
  },
  {
   "cell_type": "code",
   "execution_count": 6,
   "id": "d112bae8-f04e-4f5d-b63d-fb780cfc46d8",
   "metadata": {},
   "outputs": [
    {
     "name": "stdout",
     "output_type": "stream",
     "text": [
      "-0.9803595901545359 -0.9800379696596846 0.0003216204948512935\n"
     ]
    }
   ],
   "source": [
    "t_l, t_r = np.percentile(relative_mean_distr, [5, 95]) \n",
    "print(t_l, t_r, t_r-t_l)"
   ]
  },
  {
   "cell_type": "code",
   "execution_count": 7,
   "id": "a0b4d083-e783-4d92-99f1-0d1d20422fcc",
   "metadata": {},
   "outputs": [
    {
     "data": {
      "text/plain": [
       "0.7099366026037013"
      ]
     },
     "execution_count": 7,
     "metadata": {},
     "output_type": "execute_result"
    }
   ],
   "source": [
    "(t_r-t_l) / (f_r - f_l)"
   ]
  },
  {
   "cell_type": "code",
   "execution_count": 116,
   "id": "9419585c-a450-426d-b8c6-0800826c672a",
   "metadata": {},
   "outputs": [],
   "source": [
    "def absolute_ttest(control, test):\n",
    "    mean_control = np.mean(control)\n",
    "    mean_test = np.mean(test)\n",
    "    var_mean_control  = np.var(control) / len(control)\n",
    "    var_mean_test  = np.var(test) / len(test)\n",
    "    \n",
    "    difference_mean = mean_test - mean_control\n",
    "    difference_mean_var = var_mean_control + var_mean_test\n",
    "    difference_distribution = sps.norm(loc=difference_mean, scale=np.sqrt(difference_mean_var))\n",
    "\n",
    "    left_bound, right_bound = difference_distribution.ppf([0.025, 0.975])\n",
    "    ci_length = (right_bound - left_bound)\n",
    "    pvalue = 2 * min(difference_distribution.cdf(0), difference_distribution.sf(0))\n",
    "    effect = difference_mean\n",
    "    return ExperimentComparisonResults(pvalue, effect, ci_length, left_bound, right_bound)\n"
   ]
  },
  {
   "cell_type": "code",
   "execution_count": 117,
   "id": "f216e5d0-6175-42d0-83b9-0ea27d47e20e",
   "metadata": {},
   "outputs": [],
   "source": [
    "# 2. Создание тестируемого критерия\n",
    "def relative_ttest(control, test):\n",
    "    mean_control = np.mean(control)\n",
    "    var_mean_control  = np.var(control) / len(control)\n",
    "\n",
    "    difference_mean = np.mean(test) - mean_control\n",
    "    difference_mean_var  = np.var(test) / len(test) + var_mean_control\n",
    "    \n",
    "    covariance = -var_mean_control\n",
    "\n",
    "    relative_mu = difference_mean / mean_control\n",
    "    relative_var = difference_mean_var / (mean_control ** 2) \\\n",
    "                    + var_mean_control * ((difference_mean ** 2) / (mean_control ** 4))\\\n",
    "                    - 2 * (difference_mean / (mean_control ** 3)) * covariance\n",
    "    relative_distribution = sps.norm(loc=relative_mu, scale=np.sqrt(relative_var))\n",
    "    left_bound, right_bound = relative_distribution.ppf([0.025, 0.975])\n",
    "    \n",
    "    ci_length = (right_bound - left_bound)\n",
    "    pvalue = 2 * min(relative_distribution.cdf(0), relative_distribution.sf(0))\n",
    "    effect = relative_mu\n",
    "    return ExperimentComparisonResults(pvalue, effect, ci_length, left_bound, right_bound)"
   ]
  },
  {
   "cell_type": "code",
   "execution_count": 127,
   "id": "85a9d93a-d8ae-4e88-b9db-2d62581796e7",
   "metadata": {},
   "outputs": [
    {
     "data": {
      "application/vnd.jupyter.widget-view+json": {
       "model_id": "d82997c93298424989977cad40e4e4a8",
       "version_major": 2,
       "version_minor": 0
      },
      "text/plain": [
       "  0%|          | 0/10000 [00:00<?, ?it/s]"
      ]
     },
     "metadata": {},
     "output_type": "display_data"
    },
    {
     "name": "stdout",
     "output_type": "stream",
     "text": [
      "Мощность относительного критрерия VS мощность абсолютного критерия: 0.9378 VS. 0.9389\n"
     ]
    }
   ],
   "source": [
    "absolute_power_cnt = 0\n",
    "relative_power_cnt = 0\n",
    "\n",
    "# 4. Цикл проверки.\n",
    "NN = 10000\n",
    "for i in tqdm_notebook(range(NN)):\n",
    "    X = sps.expon(1).rvs(N)\n",
    "    Y = sps.expon(1).rvs(N) * 1.025\n",
    "\n",
    "    _, _, _, rel_left_bound, rel_right_bound = relative_ttest(X, Y)\n",
    "    _, _, _, abs_left_bound, abs_right_bound = absolute_ttest(X, Y)\n",
    "    \n",
    "    if rel_left_bound > 0:\n",
    "        relative_power_cnt += 1\n",
    "    \n",
    "    if abs_left_bound > 0:\n",
    "        absolute_power_cnt += 1\n",
    "\n",
    "print(f\"Мощность относительного критрерия VS мощность абсолютного критерия: {relative_power_cnt / N} VS. {absolute_power_cnt /N}\")"
   ]
  },
  {
   "cell_type": "code",
   "execution_count": null,
   "id": "a4790f21-09da-42fa-86bb-0ed81f4e6328",
   "metadata": {},
   "outputs": [],
   "source": []
  }
 ],
 "metadata": {
  "kernelspec": {
   "display_name": "Python 3 (ipykernel)",
   "language": "python",
   "name": "python3"
  },
  "language_info": {
   "codemirror_mode": {
    "name": "ipython",
    "version": 3
   },
   "file_extension": ".py",
   "mimetype": "text/x-python",
   "name": "python",
   "nbconvert_exporter": "python",
   "pygments_lexer": "ipython3",
   "version": "3.9.12"
  }
 },
 "nbformat": 4,
 "nbformat_minor": 5
}
