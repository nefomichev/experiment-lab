{
 "cells": [
  {
   "cell_type": "code",
   "execution_count": 11,
   "id": "e388cf38-a695-4f9e-ade7-59a52b094f9f",
   "metadata": {},
   "outputs": [],
   "source": [
    "import scipy.stats as sps\n",
    "import random \n",
    "import numpy as np\n",
    "from tqdm.notebook import tqdm as tqdm_notebook\n",
    "from statsmodels.stats.proportion import proportion_confint"
   ]
  },
  {
   "cell_type": "code",
   "execution_count": 31,
   "id": "9795457a-c891-4a99-b3d9-f02687119333",
   "metadata": {},
   "outputs": [],
   "source": [
    "population_dist = sps.norm(5)"
   ]
  },
  {
   "cell_type": "code",
   "execution_count": 34,
   "id": "1ba8b0db-2fbf-4ecb-ad8c-329f7b15e256",
   "metadata": {},
   "outputs": [
    {
     "data": {
      "application/vnd.jupyter.widget-view+json": {
       "model_id": "8328ce78c38e4311847b8c64c7e3058e",
       "version_major": 2,
       "version_minor": 0
      },
      "text/plain": [
       "  0%|          | 0/1000 [00:00<?, ?it/s]"
      ]
     },
     "metadata": {},
     "output_type": "display_data"
    },
    {
     "name": "stdout",
     "output_type": "stream",
     "text": [
      "FPR: 0.956; CI for FPR: [0.9556, 0.9564]\n"
     ]
    }
   ],
   "source": [
    "good_cnt = 0\n",
    "N = 1000\n",
    "\n",
    "for i in tqdm_notebook(range(N)):\n",
    "    sample = population_dist.rvs(size=100)\n",
    "    res = sps.bootstrap((sample,), np.mean, confidence_level=0.95)\n",
    "    left_bound = res.confidence_interval.low \n",
    "    right_bound = res.confidence_interval.high \n",
    "    if left_bound <= 5 <= right_bound:\n",
    "        good_cnt += 1\n",
    "\n",
    "left_real_level, right_real_level = proportion_confint(count = good_cnt, nobs = N, alpha=0.95, method='wilson')\n",
    "\n",
    "print(f\"FPR: {round(good_cnt / N, 4)};\"\n",
    "      f\" CI for FPR: [{round(left_real_level, 4)}, {round(right_real_level, 4)}]\")"
   ]
  }
 ],
 "metadata": {
  "kernelspec": {
   "display_name": "Python 3 (ipykernel)",
   "language": "python",
   "name": "python3"
  },
  "language_info": {
   "codemirror_mode": {
    "name": "ipython",
    "version": 3
   },
   "file_extension": ".py",
   "mimetype": "text/x-python",
   "name": "python",
   "nbconvert_exporter": "python",
   "pygments_lexer": "ipython3",
   "version": "3.9.12"
  }
 },
 "nbformat": 4,
 "nbformat_minor": 5
}
